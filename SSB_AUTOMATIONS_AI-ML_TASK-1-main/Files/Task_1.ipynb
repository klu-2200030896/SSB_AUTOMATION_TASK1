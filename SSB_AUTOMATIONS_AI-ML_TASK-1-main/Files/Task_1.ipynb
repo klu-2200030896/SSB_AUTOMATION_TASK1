{
 "cells": [
  {
   "cell_type": "code",
   "execution_count": 1,
   "id": "4e693f30-0ba7-4145-b7fe-24d090adbf92",
   "metadata": {},
   "outputs": [],
   "source": [
    "import pandas as pd\n",
    "from sklearn.model_selection import train_test_split"
   ]
  },
  {
   "cell_type": "code",
   "execution_count": 3,
   "id": "dd0e03c0-14dc-4c1a-9a27-7fdda0411f22",
   "metadata": {},
   "outputs": [],
   "source": [
    "# Load the dataset\n",
    "url = 'telco_customer_churn.csv'\n",
    "df = pd.read_csv(url)"
   ]
  },
  {
   "cell_type": "code",
   "execution_count": 38,
   "id": "ddf823d0-2055-4998-92bb-144d917f4cec",
   "metadata": {},
   "outputs": [
    {
     "name": "stdout",
     "output_type": "stream",
     "text": [
      "   customerID  gender  SeniorCitizen Partner Dependents  tenure PhoneService  \\\n",
      "0  7590-VHVEG  female              0     yes         no       1           no   \n",
      "1  5575-GNVDE    male              0      no         no      34          yes   \n",
      "2  3668-QPYBK    male              0      no         no       2          yes   \n",
      "3  7795-CFOCW    male              0      no         no      45           no   \n",
      "4  9237-HQITU  female              0      no         no       2          yes   \n",
      "\n",
      "      MultipleLines InternetService OnlineSecurity  ... DeviceProtection  \\\n",
      "0  no phone service             dsl             no  ...               no   \n",
      "1                no             dsl            yes  ...              yes   \n",
      "2                no             dsl            yes  ...               no   \n",
      "3  no phone service             dsl            yes  ...              yes   \n",
      "4                no     fiber optic             no  ...               no   \n",
      "\n",
      "  TechSupport StreamingTV StreamingMovies        Contract PaperlessBilling  \\\n",
      "0          no          no              no  month-to-month              yes   \n",
      "1          no          no              no        one year               no   \n",
      "2          no          no              no  month-to-month              yes   \n",
      "3         yes          no              no        one year               no   \n",
      "4          no          no              no  month-to-month              yes   \n",
      "\n",
      "               PaymentMethod MonthlyCharges  TotalCharges  Churn  \n",
      "0           electronic check          29.85         29.85     no  \n",
      "1               mailed check          56.95       1889.50     no  \n",
      "2               mailed check          53.85        108.15    yes  \n",
      "3  bank transfer (automatic)          42.30       1840.75     no  \n",
      "4           electronic check          70.70        151.65    yes  \n",
      "\n",
      "[5 rows x 21 columns]\n"
     ]
    }
   ],
   "source": [
    "# Display the first few rows of the dataset\n",
    "print(df.head())"
   ]
  },
  {
   "cell_type": "code",
   "execution_count": 40,
   "id": "458dc0d5-ebdd-46e3-a7a5-c62fa87e8fe4",
   "metadata": {},
   "outputs": [
    {
     "name": "stdout",
     "output_type": "stream",
     "text": [
      "customerID          0\n",
      "gender              0\n",
      "SeniorCitizen       0\n",
      "Partner             0\n",
      "Dependents          0\n",
      "tenure              0\n",
      "PhoneService        0\n",
      "MultipleLines       0\n",
      "InternetService     0\n",
      "OnlineSecurity      0\n",
      "OnlineBackup        0\n",
      "DeviceProtection    0\n",
      "TechSupport         0\n",
      "StreamingTV         0\n",
      "StreamingMovies     0\n",
      "Contract            0\n",
      "PaperlessBilling    0\n",
      "PaymentMethod       0\n",
      "MonthlyCharges      0\n",
      "TotalCharges        0\n",
      "Churn               0\n",
      "dtype: int64\n"
     ]
    }
   ],
   "source": [
    "# Check for missing values\n",
    "print(df.isnull().sum())"
   ]
  },
  {
   "cell_type": "code",
   "execution_count": 16,
   "id": "963d69f8-ad93-4a16-9c8b-86a682eb7653",
   "metadata": {},
   "outputs": [],
   "source": [
    "# Handling missing values\n",
    "df.dropna(subset=['Churn'], inplace=True)  # Drop rows with missing target values\n",
    "df['TotalCharges'] = pd.to_numeric(df['TotalCharges'], errors='coerce')  # Convert TotalCharges to numeric"
   ]
  },
  {
   "cell_type": "code",
   "execution_count": 18,
   "id": "f3a7e490-456f-4ca4-bf71-5208175876d0",
   "metadata": {},
   "outputs": [],
   "source": [
    "# Separate numeric and non-numeric columns\n",
    "numeric_cols = df.select_dtypes(include=['float64', 'int64']).columns\n",
    "non_numeric_cols = df.select_dtypes(exclude=['float64', 'int64']).columns"
   ]
  },
  {
   "cell_type": "code",
   "execution_count": 20,
   "id": "3c0509ad-1c99-4b9f-a139-c17e8c8ae118",
   "metadata": {},
   "outputs": [],
   "source": [
    "# Fill missing values for numeric columns with mean\n",
    "df[numeric_cols] = df[numeric_cols].fillna(df[numeric_cols].mean())"
   ]
  },
  {
   "cell_type": "code",
   "execution_count": 22,
   "id": "c860107b-fc18-473c-803b-211fae5f228c",
   "metadata": {},
   "outputs": [],
   "source": [
    "# Fill missing values for non-numeric columns with mode\n",
    "df[non_numeric_cols] = df[non_numeric_cols].fillna(df[non_numeric_cols].mode().iloc[0])\n"
   ]
  },
  {
   "cell_type": "code",
   "execution_count": 24,
   "id": "d5037500-5809-43d5-bb67-a866f69e5f97",
   "metadata": {},
   "outputs": [],
   "source": [
    "# Removing duplicates\n",
    "df.drop_duplicates(inplace=True)"
   ]
  },
  {
   "cell_type": "code",
   "execution_count": 26,
   "id": "e9136676-4296-4313-91e8-2ba5e1f96c8f",
   "metadata": {},
   "outputs": [],
   "source": [
    "# Standardizing formats\n",
    "df['gender'] = df['gender'].str.lower()\n",
    "df['Partner'] = df['Partner'].str.lower()\n",
    "df['Dependents'] = df['Dependents'].str.lower()\n",
    "df['PhoneService'] = df['PhoneService'].str.lower()\n",
    "df['MultipleLines'] = df['MultipleLines'].str.lower()\n",
    "df['InternetService'] = df['InternetService'].str.lower()\n",
    "df['OnlineSecurity'] = df['OnlineSecurity'].str.lower()\n",
    "df['OnlineBackup'] = df['OnlineBackup'].str.lower()\n",
    "df['DeviceProtection'] = df['DeviceProtection'].str.lower()\n",
    "df['TechSupport'] = df['TechSupport'].str.lower()\n",
    "df['StreamingTV'] = df['StreamingTV'].str.lower()\n",
    "df['StreamingMovies'] = df['StreamingMovies'].str.lower()\n",
    "df['Contract'] = df['Contract'].str.lower()\n",
    "df['PaperlessBilling'] = df['PaperlessBilling'].str.lower()\n",
    "df['PaymentMethod'] = df['PaymentMethod'].str.lower()\n",
    "df['Churn'] = df['Churn'].str.lower()\n"
   ]
  },
  {
   "cell_type": "code",
   "execution_count": 28,
   "id": "6d33ee84-bed5-4080-96a0-09b366e5b6eb",
   "metadata": {},
   "outputs": [],
   "source": [
    "# Define features and target\n",
    "X = df.drop(columns=['customerID', 'Churn'])\n",
    "y = df['Churn']"
   ]
  },
  {
   "cell_type": "code",
   "execution_count": 30,
   "id": "19e0583d-038c-43af-af39-22f9696d2bb0",
   "metadata": {},
   "outputs": [],
   "source": [
    "# Convert categorical variables to dummy variables\n",
    "X = pd.get_dummies(X, drop_first=True)\n"
   ]
  },
  {
   "cell_type": "code",
   "execution_count": 42,
   "id": "19a087a5-f641-4a5b-aaf8-61fddfc49260",
   "metadata": {},
   "outputs": [
    {
     "name": "stdout",
     "output_type": "stream",
     "text": [
      "Training set size: 5634\n",
      "Test set size: 1409\n"
     ]
    }
   ],
   "source": [
    "# Split the dataset into training and test sets\n",
    "X_train, X_test, y_train, y_test = train_test_split(X, y, test_size=0.2, random_state=42)\n",
    "\n",
    "# Print the size of training and test sets\n",
    "print(f'Training set size: {X_train.shape[0]}')\n",
    "print(f'Test set size: {X_test.shape[0]}')\n"
   ]
  },
  {
   "cell_type": "code",
   "execution_count": null,
   "id": "658d4cb7-c573-4e49-b81b-81359dd8c2dd",
   "metadata": {},
   "outputs": [],
   "source": []
  }
 ],
 "metadata": {
  "kernelspec": {
   "display_name": "Python 3 (ipykernel)",
   "language": "python",
   "name": "python3"
  },
  "language_info": {
   "codemirror_mode": {
    "name": "ipython",
    "version": 3
   },
   "file_extension": ".py",
   "mimetype": "text/x-python",
   "name": "python",
   "nbconvert_exporter": "python",
   "pygments_lexer": "ipython3",
   "version": "3.11.7"
  }
 },
 "nbformat": 4,
 "nbformat_minor": 5
}
